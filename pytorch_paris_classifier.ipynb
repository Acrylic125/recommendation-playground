{
 "cells": [
  {
   "cell_type": "code",
   "execution_count": 2,
   "metadata": {},
   "outputs": [
    {
     "name": "stdout",
     "output_type": "stream",
     "text": [
      "Using cpu device\n"
     ]
    },
    {
     "name": "stderr",
     "output_type": "stream",
     "text": [
      "/tmp/ipykernel_24780/4130129144.py:6: DeprecationWarning: \n",
      "Pyarrow will become a required dependency of pandas in the next major release of pandas (pandas 3.0),\n",
      "(to allow more performant data types, such as the Arrow string type, and better interoperability with other libraries)\n",
      "but was not found to be installed on your system.\n",
      "If this would cause problems for you,\n",
      "please provide us feedback at https://github.com/pandas-dev/pandas/issues/54466\n",
      "        \n",
      "  import pandas as pd\n"
     ]
    }
   ],
   "source": [
    "import os\n",
    "import torch\n",
    "from torch import nn\n",
    "from torch.utils.data import DataLoader\n",
    "from torchvision import datasets, transforms\n",
    "import pandas as pd \n",
    "\n",
    "device = (\n",
    "    \"cuda\"\n",
    "    if torch.cuda.is_available()\n",
    "    else \"mps\"\n",
    "    if torch.backends.mps.is_available()\n",
    "    else \"cpu\"\n",
    ")\n",
    "print(f\"Using {device} device\")"
   ]
  },
  {
   "cell_type": "code",
   "execution_count": 12,
   "metadata": {},
   "outputs": [
    {
     "name": "stdout",
     "output_type": "stream",
     "text": [
      "(10000, 18)\n",
      "   squareMeters  numberOfRooms  hasYard  hasPool  floors  cityCode  \\\n",
      "0         75523              3        0        1      63      9373   \n",
      "1         80771             39        1        1      98     39381   \n",
      "2         55712             58        0        1      19     34457   \n",
      "3         32316             47        0        0       6     27939   \n",
      "4         70429             19        1        1      90     38045   \n",
      "\n",
      "   cityPartRange  numPrevOwners  made  isNewBuilt  hasStormProtector  \\\n",
      "0              3              8  2005           0                  1   \n",
      "1              8              6  2015           1                  0   \n",
      "2              6              8  2021           0                  0   \n",
      "3             10              4  2012           0                  1   \n",
      "4              3              7  1990           1                  0   \n",
      "\n",
      "   basement  attic  garage  hasStorageRoom  hasGuestRoom      price category  \n",
      "0      4313   9005     956               0             7  7559081.5    Basic  \n",
      "1      3653   2436     128               1             2  8085989.5   Luxury  \n",
      "2      2937   8852     135               1             9  5574642.1    Basic  \n",
      "3       659   7141     359               0             3  3232561.2    Basic  \n",
      "4      8435   2429     292               1             4  7055052.0   Luxury  \n",
      "Training set size: 8000\n",
      "Eval set size: 2000\n"
     ]
    }
   ],
   "source": [
    "data = pd.read_csv(\"data/ParisHousingClass.csv\", sep=\",\", header=\"infer\")\n",
    "shape = data.shape\n",
    "print(shape)\n",
    "print(data.head())\n",
    "\n",
    "training_set, eval_set = torch.utils.data.random_split(data, [int(shape[0]*0.8), int(shape[0]*0.2)])\n",
    "print(f\"Training set size: {len(training_set)}\")\n",
    "print(f\"Eval set size: {len(eval_set)}\")\n",
    "\n",
    "categories = {\n",
    "    \"Basic\": 0, \"Luxury\": 1\n",
    "}"
   ]
  },
  {
   "cell_type": "code",
   "execution_count": 2,
   "metadata": {},
   "outputs": [],
   "source": [
    "class ParisCategoryClassifier(nn.Module):\n",
    "    def __init__(self):\n",
    "        super().__init__()\n",
    "        # self.flatten = nn.Flatten()\n",
    "        self.linear_relu_stack = nn.Sequential(\n",
    "            nn.Linear(shape[1] - 1, 512),\n",
    "            nn.ReLU(),\n",
    "            nn.Linear(512, 512),\n",
    "            nn.ReLU(),\n",
    "            nn.Linear(512, 2),\n",
    "        )\n",
    "\n",
    "    def forward(self, x):\n",
    "        # x = self.flatten(x)\n",
    "        logits = self.linear_relu_stack(x)\n",
    "        return logits\n"
   ]
  },
  {
   "cell_type": "code",
   "execution_count": 3,
   "metadata": {},
   "outputs": [
    {
     "name": "stdout",
     "output_type": "stream",
     "text": [
      "ParisClassifier(\n",
      "  (flatten): Flatten(start_dim=1, end_dim=-1)\n",
      "  (linear_relu_stack): Sequential(\n",
      "    (0): Linear(in_features=784, out_features=512, bias=True)\n",
      "    (1): ReLU()\n",
      "    (2): Linear(in_features=512, out_features=512, bias=True)\n",
      "    (3): ReLU()\n",
      "    (4): Linear(in_features=512, out_features=10, bias=True)\n",
      "  )\n",
      ")\n"
     ]
    }
   ],
   "source": [
    "model = ParisCategoryClassifier().to(device)\n",
    "print(model)"
   ]
  }
 ],
 "metadata": {
  "kernelspec": {
   "display_name": "venv",
   "language": "python",
   "name": "python3"
  },
  "language_info": {
   "codemirror_mode": {
    "name": "ipython",
    "version": 3
   },
   "file_extension": ".py",
   "mimetype": "text/x-python",
   "name": "python",
   "nbconvert_exporter": "python",
   "pygments_lexer": "ipython3",
   "version": "3.12.1"
  }
 },
 "nbformat": 4,
 "nbformat_minor": 2
}
