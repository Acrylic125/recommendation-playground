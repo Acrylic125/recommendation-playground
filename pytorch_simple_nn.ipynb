{
 "cells": [
  {
   "cell_type": "code",
   "execution_count": 8,
   "metadata": {},
   "outputs": [],
   "source": [
    "import torch\n",
    "import torch.nn as nn\n",
    "import torch.nn.functional as F\n",
    "from torch.optim import SGD\n",
    "\n",
    "class BaseNN(nn.Module):\n",
    "    \n",
    "    def __init__(self):\n",
    "        super().__init__()\n",
    "\n",
    "        self.w00 = nn.Parameter(torch.randn(1), requires_grad=False)\n",
    "        self.b00 = nn.Parameter(torch.randn(1), requires_grad=False)\n",
    "        self.w01 = nn.Parameter(torch.randn(1), requires_grad=False)\n",
    "\n",
    "        self.w10 = nn.Parameter(torch.randn(1), requires_grad=False)\n",
    "        self.b10 = nn.Parameter(torch.randn(1), requires_grad=False)\n",
    "        self.w11 = nn.Parameter(torch.randn(1), requires_grad=False)\n",
    "\n",
    "        self.final_bias = nn.Parameter(torch.randn(1), requires_grad=False)\n",
    "\n",
    "    def forward(self, input):\n",
    "        node_00_output = F.relu(self.w00 * input + self.b00)\n",
    "        node_10_output = F.relu(self.w10 * input + self.b10)\n",
    "        \n",
    "        node_final_output = F.relu(self.w01 * node_00_output + self.w11 * node_10_output + self.final_bias)\n",
    "        return node_final_output\n",
    " "
   ]
  },
  {
   "cell_type": "code",
   "execution_count": 4,
   "metadata": {},
   "outputs": [
    {
     "name": "stdout",
     "output_type": "stream",
     "text": [
      "tensor([2.2349, 2.2439, 2.2530, 2.2620, 2.2711, 2.2801, 2.2891, 2.2982, 2.3072,\n",
      "        2.3163, 2.3253, 2.3344, 2.3434, 2.3524, 2.3615, 2.3705, 2.3796, 2.3886,\n",
      "        2.3976, 2.4067, 2.4157, 2.4248, 2.4338, 2.4429, 2.4519, 2.4609, 2.4700,\n",
      "        2.4790, 2.4881, 2.4971, 2.5061, 2.5152, 2.5242, 2.5333, 2.5423, 2.5514,\n",
      "        2.5604, 2.5694, 2.5785, 2.5875, 2.5966, 2.6056, 2.6147, 2.6237, 2.6327,\n",
      "        2.6418, 2.6508, 2.6599, 2.6689, 2.6779, 2.6870, 2.6960, 2.7051, 2.7141,\n",
      "        2.7232, 2.7322, 2.7412, 2.7503, 2.7593, 2.7684, 2.7774, 2.7864, 2.7955,\n",
      "        2.8045, 2.8136, 2.8226, 2.8317, 2.8407, 2.8497, 2.8588, 2.8678, 2.8769,\n",
      "        2.8859, 2.8949, 2.9040, 2.9130, 2.9221, 2.9311, 2.9402, 2.9492, 2.9582,\n",
      "        2.9673, 2.9763, 2.9854, 2.9944, 3.0035, 3.0125, 3.0215, 3.0306, 3.0396,\n",
      "        3.0487, 3.0577, 3.0667, 3.0758, 3.0848, 3.0939, 3.1029, 3.1120, 3.1210,\n",
      "        3.1300])\n"
     ]
    }
   ],
   "source": [
    "inputs = torch.linspace(start=0, end=10, steps=100)\n",
    "# print(inputs)\n",
    "\n",
    "model = BaseNN()\n",
    "results = model(inputs)\n",
    "\n",
    "print(results)\n"
   ]
  },
  {
   "cell_type": "code",
   "execution_count": 6,
   "metadata": {},
   "outputs": [],
   "source": [
    "class BaseNN_train(nn.Module):\n",
    "    \n",
    "    def __init__(self):\n",
    "        super().__init__()\n",
    "\n",
    "        self.w00 = nn.Parameter(torch.randn(1), requires_grad=False)\n",
    "        self.b00 = nn.Parameter(torch.randn(1), requires_grad=False)\n",
    "        self.w01 = nn.Parameter(torch.randn(1), requires_grad=False)\n",
    "\n",
    "        self.w10 = nn.Parameter(torch.randn(1), requires_grad=False)\n",
    "        self.b10 = nn.Parameter(torch.randn(1), requires_grad=False)\n",
    "        self.w11 = nn.Parameter(torch.randn(1), requires_grad=False)\n",
    "\n",
    "        self.final_bias = nn.Parameter(torch.randn(1), requires_grad=True)\n",
    "\n",
    "    def forward(self, input):\n",
    "        node_00_output = F.relu(self.w00 * input + self.b00)\n",
    "        node_10_output = F.relu(self.w10 * input + self.b10)\n",
    "        \n",
    "        node_final_output = F.relu(self.w01 * node_00_output + self.w11 * node_10_output + self.final_bias)\n",
    "        return node_final_output\n",
    " "
   ]
  },
  {
   "cell_type": "code",
   "execution_count": 16,
   "metadata": {},
   "outputs": [
    {
     "name": "stderr",
     "output_type": "stream",
     "text": [
      "/tmp/ipykernel_7430/3678539441.py:18: UserWarning: Using a target size (torch.Size([])) that is different to the input size (torch.Size([1])). This will likely lead to incorrect results due to broadcasting. Please ensure they have the same size.\n",
      "  loss = F.mse_loss(output, label)\n"
     ]
    },
    {
     "name": "stdout",
     "output_type": "stream",
     "text": [
      "Epoch 0, Loss: 3.713294178247452\n",
      "Epoch 10, Loss: 3.000037702451664\n",
      "Epoch 20, Loss: 3.000000001374488\n",
      "Epoch 30, Loss: 3.000000000000057\n",
      "Epoch 40, Loss: 3.000000000000014\n",
      "Epoch 50, Loss: 3.000000000000014\n",
      "Epoch 60, Loss: 3.000000000000014\n",
      "Epoch 70, Loss: 3.000000000000014\n",
      "Epoch 80, Loss: 3.000000000000014\n",
      "Epoch 90, Loss: 3.000000000000014\n"
     ]
    }
   ],
   "source": [
    "inputs = torch.tensor([ 0, 1, 2, 3, 4, 5, 6, 7, 8, 9, 10], dtype=torch.float32)\n",
    "labels = torch.tensor([ 0, 0, 0, 0, 0, 1, 1, 1, 0, 0, 0], dtype=torch.float32)\n",
    "\n",
    "model = BaseNN_train()\n",
    "\n",
    "optimiser = SGD(model.parameters(), lr=0.2)\n",
    "\n",
    "epochs = 100\n",
    "for epoch in range(epochs):\n",
    "    iterations = len(inputs)\n",
    "\n",
    "    total_loss = 0\n",
    "    for i in range(iterations):\n",
    "        input = inputs[i]\n",
    "        label = labels[i]\n",
    "\n",
    "        output = model(input)\n",
    "        loss = F.mse_loss(output, label)\n",
    "        # loss = (output - label) ** 2\n",
    "        loss.backward()\n",
    "        total_loss += float(loss)\n",
    "\n",
    "    if epoch % 10 == 0:\n",
    "        print(f\"Epoch {epoch}, Loss: {total_loss}\")\n",
    "    optimiser.step()\n",
    "    optimiser.zero_grad()\n",
    "\n"
   ]
  }
 ],
 "metadata": {
  "kernelspec": {
   "display_name": "venv",
   "language": "python",
   "name": "python3"
  },
  "language_info": {
   "codemirror_mode": {
    "name": "ipython",
    "version": 3
   },
   "file_extension": ".py",
   "mimetype": "text/x-python",
   "name": "python",
   "nbconvert_exporter": "python",
   "pygments_lexer": "ipython3",
   "version": "3.8.10"
  }
 },
 "nbformat": 4,
 "nbformat_minor": 2
}
