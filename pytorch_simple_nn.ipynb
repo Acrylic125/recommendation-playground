{
 "cells": [
  {
   "cell_type": "code",
   "execution_count": 2,
   "metadata": {},
   "outputs": [],
   "source": [
    "import torch\n",
    "import torch.nn as nn\n",
    "import torch.nn.functional as F\n",
    "\n",
    "class BaseNN(nn.Module):\n",
    "    \n",
    "    def __init__(self):\n",
    "        super().__init__()\n",
    "\n",
    "        self.w00 = nn.Parameter(torch.randn(1), requires_grad=False)\n",
    "        self.b00 = nn.Parameter(torch.randn(1), requires_grad=False)\n",
    "        self.w01 = nn.Parameter(torch.randn(1), requires_grad=False)\n",
    "\n",
    "        self.w10 = nn.Parameter(torch.randn(1), requires_grad=False)\n",
    "        self.b10 = nn.Parameter(torch.randn(1), requires_grad=False)\n",
    "        self.w11 = nn.Parameter(torch.randn(1), requires_grad=False)\n",
    "\n",
    "        self.final_bias = nn.Parameter(torch.randn(1), requires_grad=False)\n",
    "\n",
    "    def forward(self, input):\n",
    "        node_00_output = F.relu(self.w00 * input + self.b00)\n",
    "        node_10_output = F.relu(self.w10 * input + self.b10)\n",
    "        \n",
    "        node_final_output = F.relu(self.w01 * node_00_output + self.w11 * node_10_output + self.final_bias)\n",
    "        return node_final_output\n",
    " "
   ]
  },
  {
   "cell_type": "code",
   "execution_count": null,
   "metadata": {},
   "outputs": [],
   "source": []
  }
 ],
 "metadata": {
  "kernelspec": {
   "display_name": "venv",
   "language": "python",
   "name": "python3"
  },
  "language_info": {
   "codemirror_mode": {
    "name": "ipython",
    "version": 3
   },
   "file_extension": ".py",
   "mimetype": "text/x-python",
   "name": "python",
   "nbconvert_exporter": "python",
   "pygments_lexer": "ipython3",
   "version": "3.8.10"
  }
 },
 "nbformat": 4,
 "nbformat_minor": 2
}
