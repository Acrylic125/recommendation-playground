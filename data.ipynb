{
 "cells": [
  {
   "cell_type": "code",
   "execution_count": 7,
   "metadata": {},
   "outputs": [
    {
     "name": "stdout",
     "output_type": "stream",
     "text": [
      "      user_id  movie_id  rating  timestamp\n",
      "0           1        33       4  878542699\n",
      "1           1        61       4  878542420\n",
      "2           1       117       3  874965739\n",
      "3           1       155       2  878542201\n",
      "4           1       160       4  875072547\n",
      "...       ...       ...     ...        ...\n",
      "9424      943       232       4  888639867\n",
      "9425      943       356       4  888639598\n",
      "9426      943       570       1  888640125\n",
      "9427      943       808       4  888639868\n",
      "9428      943      1067       2  875501756\n",
      "\n",
      "[9429 rows x 4 columns]\n",
      "       user_id  movie_id  rating  timestamp\n",
      "0            1         2       3  876893171\n",
      "1            1         3       4  878542960\n",
      "2            1         4       3  876893119\n",
      "3            1         5       3  889751712\n",
      "4            1         6       5  887431973\n",
      "...        ...       ...     ...        ...\n",
      "90564      943      1047       2  875502146\n",
      "90565      943      1074       4  888640250\n",
      "90566      943      1188       3  888640250\n",
      "90567      943      1228       3  888640275\n",
      "90568      943      1330       3  888692465\n",
      "\n",
      "[90569 rows x 4 columns]\n"
     ]
    }
   ],
   "source": [
    "import pandas as pd \n",
    "\n",
    "# ratings = pd.read_csv(\"data/u.data\", sep=\"\\t\")\n",
    "# ratings.columns = [\"user_id\", \"movie_id\", \"rating\", \"timestamp\"]\n",
    "# print(ratings)\n",
    "\n",
    "test_ratings = pd.read_csv(\"data/ua.test\", sep=\"\\t\")\n",
    "test_ratings.columns = [\"user_id\", \"movie_id\", \"rating\", \"timestamp\"]\n",
    "print(test_ratings)\n",
    "\n",
    "eval_ratings = pd.read_csv(\"data/ua.base\", sep=\"\\t\")\n",
    "eval_ratings.columns = [\"user_id\", \"movie_id\", \"rating\", \"timestamp\"]\n",
    "print(eval_ratings)\n"
   ]
  },
  {
   "cell_type": "code",
   "execution_count": null,
   "metadata": {},
   "outputs": [],
   "source": []
  }
 ],
 "metadata": {
  "kernelspec": {
   "display_name": "base",
   "language": "python",
   "name": "python3"
  },
  "language_info": {
   "codemirror_mode": {
    "name": "ipython",
    "version": 3
   },
   "file_extension": ".py",
   "mimetype": "text/x-python",
   "name": "python",
   "nbconvert_exporter": "python",
   "pygments_lexer": "ipython3",
   "version": "3.9.13"
  }
 },
 "nbformat": 4,
 "nbformat_minor": 2
}
